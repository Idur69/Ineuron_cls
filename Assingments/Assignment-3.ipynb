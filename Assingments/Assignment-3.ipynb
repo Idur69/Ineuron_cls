{
 "cells": [
  {
   "cell_type": "code",
   "execution_count": 1,
   "metadata": {},
   "outputs": [],
   "source": [
    "# 1.1 Write a Python Program to implement your own myreduce() function which works exactly\n",
    "#    like Python's built-in function reduce()"
   ]
  },
  {
   "cell_type": "code",
   "execution_count": 5,
   "metadata": {},
   "outputs": [
    {
     "name": "stdout",
     "output_type": "stream",
     "text": [
      "Enter number : 20\n",
      "Output\n",
      "List of first Natural numbers are :  [1, 2, 3, 4, 5, 6, 7, 8, 9, 10, 11, 12, 13, 14, 15, 16, 17, 18, 19, 20]\n",
      "Sum of list elements are :  210\n"
     ]
    }
   ],
   "source": [
    "def myreduce(num):\n",
    "    num_list = list(range(1, number+1))\n",
    "    sum_of_list = 0\n",
    "    \n",
    "    for n in num_list:\n",
    "        sum_of_list +=n\n",
    "        \n",
    "    #print(\"num list : \", num_list)\n",
    "    #print(\"sum of list :\", sum_of_list)\n",
    "    return num_list, sum_of_list\n",
    "\n",
    "number = int(input(\"Enter number : \"))\n",
    "output_value = myreduce(number)\n",
    "#print(\"output values : \", output_value , type(output_value) )\n",
    "print(\"Output\")\n",
    "print(\"List of first Natural numbers are : \", output_value[0])\n",
    "print(\"Sum of list elements are : \", output_value[1])\n",
    "    \n",
    "    "
   ]
  },
  {
   "cell_type": "code",
   "execution_count": 11,
   "metadata": {},
   "outputs": [
    {
     "name": "stdout",
     "output_type": "stream",
     "text": [
      "Enter Number : 20\n",
      "Output\n",
      "List of first natural numbers are : [1, 2, 3, 4, 5, 6, 7, 8, 9, 10, 11, 12, 13, 14, 15, 16, 17, 18, 19, 20]\n",
      "Sum of list elements are:  210\n"
     ]
    }
   ],
   "source": [
    "#  same as reduce function\n",
    "number = int(input(\"Enter Number : \"))\n",
    "num_list = list(range(1, number+1))\n",
    "\n",
    "from functools import reduce\n",
    "\n",
    "output_value = reduce((lambda x,y : x+y), num_list)\n",
    "\n",
    "print(\"Output\")\n",
    "print(\"List of first natural numbers are :\", num_list)\n",
    "print(\"Sum of list elements are: \",output_value)"
   ]
  },
  {
   "cell_type": "code",
   "execution_count": 13,
   "metadata": {},
   "outputs": [],
   "source": [
    "#1.2 Write a Python program to implement your own myfilter() function which works exactly \n",
    "# like Python's built-in function filter()"
   ]
  },
  {
   "cell_type": "code",
   "execution_count": 31,
   "metadata": {},
   "outputs": [
    {
     "name": "stdout",
     "output_type": "stream",
     "text": [
      "Enter number : 20\n",
      "Output\n",
      "Number of list :  [1, 2, 3, 4, 5, 6, 7, 8, 9, 10, 11, 12, 13, 14, 15, 16, 17, 18, 19, 20]\n",
      "List of even numbers, which are multiple of 5 are:  [10, 20]\n",
      "List of odd numbers, which are multiple of 5 are:  [5, 15]\n"
     ]
    }
   ],
   "source": [
    "# Solution \n",
    "\n",
    "# filter the even and odd numbers from list which are multiples of 5\n",
    "\n",
    "# Input\n",
    "number = int(input(\"Enter number : \"))\n",
    "\n",
    "\n",
    "def myfilter(num):\n",
    "    ''' This function will filter execute even and odd from list which multiples of 5'''\n",
    "    num_list = list(range(1, number+1))\n",
    "    even_value = []\n",
    "    odd_value = []\n",
    "    for i in num_list:\n",
    "        if i%5 ==0:\n",
    "            if (i%2 == 0):\n",
    "                even_value.append(i)\n",
    "                #print(\"even numbers : \", i)\n",
    "            else:\n",
    "                odd_value.append(i)\n",
    "            #print(\"odd numbers : \", i)\n",
    "    return even_value, odd_value\n",
    "\n",
    "\n",
    "output_value = myfilter(number)\n",
    "print(\"Output\")\n",
    "print(\"Number of list : \", num_list)\n",
    "#print(\"List of even numbers, which are multiple of 5 are  : \", even_value)\n",
    "print(\"List of even numbers, which are multiple of 5 are: \", output_value[0])\n",
    "print(\"List of odd numbers, which are multiple of 5 are: \", output_value[1])"
   ]
  },
  {
   "cell_type": "code",
   "execution_count": 19,
   "metadata": {},
   "outputs": [
    {
     "name": "stdout",
     "output_type": "stream",
     "text": [
      "Enter number : 20\n",
      "Output\n",
      "Number of List are :  [1, 2, 3, 4, 5, 6, 7, 8, 9, 10, 11, 12, 13, 14, 15, 16, 17, 18, 19, 20]\n",
      "List of even numbers, which are multiple of 5 are  :  [10, 20]\n",
      "List of odd numbers, which are multiple of 5 are:  [5, 15]\n"
     ]
    }
   ],
   "source": [
    "# same as build in function filter()\n",
    "number = int(input(\"Enter number : \"))\n",
    "num_list = list(range(1, number+1))\n",
    "\n",
    "num_even_list = list(filter(lambda x : x%2==0, list(filter(lambda x : x%5==0, num_list))))\n",
    "num_odd_list = list(filter(lambda x : x%2!=0, list(filter(lambda x : x%5==0, num_list))))\n",
    "\n",
    "print(\"Output\")\n",
    "print(\"Number of List are : \", num_list)\n",
    "print(\"List of even numbers, which are multiple of 5 are  : \", num_even_list)\n",
    "print(\"List of odd numbers, which are multiple of 5 are: \", num_odd_list)"
   ]
  },
  {
   "cell_type": "code",
   "execution_count": 32,
   "metadata": {},
   "outputs": [],
   "source": [
    "# 2. Implement List comprehensions to produce the following lists.\n",
    "# Write List comprehensions to produce the following Lists\n",
    "# ['A', 'C', 'A', 'D', 'G', 'I', ’L’, ‘ D’]\n",
    "# ['x', 'xx', 'xxx', 'xxxx', 'y', 'yy', 'yyy', 'yyyy', 'z', 'zz', 'zzz', 'zzzz']\n",
    "# ['x', 'y', 'z', 'xx', 'yy', 'zz', 'xxx', 'yyy', 'zzz', 'xxxx', 'yyyy', 'zzzz']\n",
    "# [[2], [3], [4], [3], [4], [5], [4], [5], [6]] [[2, 3, 4, 5], [3, 4, 5, 6],\n",
    "# [4, 5, 6, 7], [5, 6, 7, 8]]\n",
    "# [(1, 1), (2, 1), (3, 1), (1, 2), (2, 2), (3, 2), (1, 3), (2, 3), (3, 3)]"
   ]
  },
  {
   "cell_type": "code",
   "execution_count": 107,
   "metadata": {},
   "outputs": [
    {
     "name": "stdout",
     "output_type": "stream",
     "text": [
      "Output-1\n",
      "['A', 'C', 'A', 'D', 'G', 'I', 'L', 'D']\n",
      "Output-2\n",
      "['x', 'xx', 'xxx', 'xxxx', 'y', 'yy', 'yyy', 'yyyy', 'z', 'zz', 'zzz', 'zzzz']\n",
      "Output-3\n",
      "['x', 'y', 'z', 'xx', 'yy', 'zz', 'xxx', 'yyy', 'zzz', 'xxxx', 'yyyy', 'zzzz']\n",
      "Output-4\n",
      "[[2], [3], [4], [3], [4], [5], [4], [5], [6]]\n",
      "Output-5\n",
      "[[2, 3, 4, 5], [3, 4, 5, 6], [4, 5, 6, 7], [5, 6, 7, 8]]\n",
      "Output-6\n",
      "[(1, 1), (2, 1), (3, 1), (1, 2), (2, 2), (3, 2), (1, 3), (2, 3), (3, 3)]\n"
     ]
    }
   ],
   "source": [
    "# Solution\n",
    "#section-1\n",
    "word = 'AcadGiLd'\n",
    "output_list = [ w.upper() for w in word]\n",
    "print(\"Output-1\")\n",
    "print(output_list)\n",
    "\n",
    "# section-2 \n",
    "word_1 = 'xyz'\n",
    "\n",
    "list2 = [i*n for i in word_1 for n in range(1, 5)]\n",
    "'''list22 = []\n",
    "for i in word_1:\n",
    "    for n in range(1, 5):\n",
    "        list22.append(i*n)\n",
    "'''\n",
    "print(\"Output-2\")\n",
    "print(list2)\n",
    "#print(list22)\n",
    "\n",
    "# section-3\n",
    "list3 = [i*n for n in range(1, 5) for i in word_1 ]\n",
    "'''list33 = []\n",
    "for n in range(1, 5):\n",
    "    for i in word_1:\n",
    "        list33.append(i*n)\n",
    "'''\n",
    "print(\"Output-3\")\n",
    "print(list33)\n",
    "#print(list33)\n",
    "\n",
    "# section-4\n",
    "number = [2,3,4]\n",
    "list4 = [[i+x] for x in number for i in range(0, 3) ]\n",
    "print(\"Output-4\")\n",
    "print(list4)\n",
    "\n",
    "# Section-5\n",
    "number_2 = [2,3,4,5]\n",
    "list5 = [[i+x for i in range(0, 4)] for x in number_2 ]\n",
    "print(\"Output-5\")\n",
    "print(list5)\n",
    "\n",
    "# Section-6\n",
    "number_3 = [1,2,3]\n",
    "list6 = [(x,i) for i in number_3 for x in number_3]\n",
    "'''list66 = []\n",
    "for a in number_3:\n",
    "    #print(\"-----------------\")\n",
    "    #print(\"a\",a)\n",
    "    for b in number_3:\n",
    "        #print(\"b\",b)\n",
    "        list66.append((b, a))\n",
    "'''   \n",
    "print(\"Output-6\")\n",
    "print(list6)\n",
    "#print(list66)\n",
    "\n",
    "\n"
   ]
  },
  {
   "cell_type": "code",
   "execution_count": null,
   "metadata": {},
   "outputs": [],
   "source": []
  },
  {
   "cell_type": "code",
   "execution_count": null,
   "metadata": {},
   "outputs": [],
   "source": []
  }
 ],
 "metadata": {
  "kernelspec": {
   "display_name": "Python 3",
   "language": "python",
   "name": "python3"
  },
  "language_info": {
   "codemirror_mode": {
    "name": "ipython",
    "version": 3
   },
   "file_extension": ".py",
   "mimetype": "text/x-python",
   "name": "python",
   "nbconvert_exporter": "python",
   "pygments_lexer": "ipython3",
   "version": "3.6.5"
  }
 },
 "nbformat": 4,
 "nbformat_minor": 4
}
